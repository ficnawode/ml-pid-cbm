{
 "cells": [
  {
   "cell_type": "code",
   "execution_count": 7,
   "metadata": {},
   "outputs": [
    {
     "name": "stdout",
     "output_type": "stream",
     "text": [
      "cooking, judo, long-distance running, music production (I play guitar and piano), programming, sailing, weightlifting\n"
     ]
    }
   ],
   "source": [
    "interests = [\n",
    "    \"sailing\",\n",
    "    \"programming\",\n",
    "    \"martial arts (judo and jiu jitsu)\",\n",
    "    \"weightlifting\",\n",
    "    \"cooking\",\n",
    "    \"music production (I play guitar and piano)\",\n",
    "    \"long-distance running\",\n",
    "]\n",
    "interests.sort()\n",
    "int_str = \", \".join(interests)\n",
    "print(int_str)"
   ]
  },
  {
   "cell_type": "code",
   "execution_count": null,
   "metadata": {},
   "outputs": [],
   "source": []
  }
 ],
 "metadata": {
  "kernelspec": {
   "display_name": "cbm23",
   "language": "python",
   "name": "python3"
  },
  "language_info": {
   "codemirror_mode": {
    "name": "ipython",
    "version": 3
   },
   "file_extension": ".py",
   "mimetype": "text/x-python",
   "name": "python",
   "nbconvert_exporter": "python",
   "pygments_lexer": "ipython3",
   "version": "3.11.4"
  },
  "orig_nbformat": 4
 },
 "nbformat": 4,
 "nbformat_minor": 2
}
